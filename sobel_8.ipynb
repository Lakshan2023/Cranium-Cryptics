{
 "cells": [
  {
   "cell_type": "markdown",
   "source": [
    "# Applying Sobel-8 Filter"
   ],
   "metadata": {
    "collapsed": false
   },
   "id": "eb0c4ab08cc1615f"
  },
  {
   "cell_type": "code",
   "execution_count": 3,
   "outputs": [],
   "source": [
    "import cv2\n",
    "import os\n",
    "\n",
    "def apply_8th_order_sobel_edge_detection(input_folder, output_folder):\n",
    "    if not os.path.exists(output_folder):\n",
    "        os.makedirs(output_folder)\n",
    "\n",
    "    for filename in os.listdir(input_folder):\n",
    "        if filename.endswith(('.png', '.jpg', '.jpeg')):\n",
    "            # Reading images\n",
    "            img_path = os.path.join(input_folder, filename)\n",
    "            image = cv2.imread(img_path, cv2.IMREAD_GRAYSCALE)\n",
    "\n",
    "            # Applying sobel 8th filter\n",
    "            sobel_x = cv2.Sobel(image, cv2.CV_64F, 1, 0, ksize=-1)\n",
    "            sobel_y = cv2.Sobel(image, cv2.CV_64F, 0, 1, ksize=-1)\n",
    "            edges = cv2.magnitude(sobel_x, sobel_y)\n",
    "            edges = cv2.normalize(edges, None, 0, 255, cv2.NORM_MINMAX)\n",
    "            edges = edges.astype('uint8')\n",
    "            output_path = os.path.join(output_folder, f'edge_8th_order_{filename}')\n",
    "            cv2.imwrite(output_path, edges)\n",
    "\n",
    "if __name__ == \"__main__\":\n",
    "    \n",
    "    input_folder_Isc = 'D:/Datasets_Ori/AugFinalIshemic512'\n",
    "    output_folder_Isc = 'D:/Datasets_Ori/AugFinalIshemic8Sobel'\n",
    "    \n",
    "    input_folder_Nom = 'D:/Datasets_Ori/AugFinalNormal512'\n",
    "    output_folder_Nom = 'D:/Datasets_Ori/AugFinalNormal8Sobel'\n",
    "\n",
    "    apply_8th_order_sobel_edge_detection(input_folder_Nom, output_folder_Nom)\n",
    "    apply_8th_order_sobel_edge_detection(input_folder_Isc, output_folder_Isc)\n"
   ],
   "metadata": {
    "collapsed": false,
    "ExecuteTime": {
     "end_time": "2024-01-22T14:32:51.757765Z",
     "start_time": "2024-01-22T14:25:08.526306400Z"
    }
   },
   "id": "f376a7b9bb8b6131"
  }
 ],
 "metadata": {
  "kernelspec": {
   "display_name": "Python 3",
   "language": "python",
   "name": "python3"
  },
  "language_info": {
   "codemirror_mode": {
    "name": "ipython",
    "version": 2
   },
   "file_extension": ".py",
   "mimetype": "text/x-python",
   "name": "python",
   "nbconvert_exporter": "python",
   "pygments_lexer": "ipython2",
   "version": "2.7.6"
  }
 },
 "nbformat": 4,
 "nbformat_minor": 5
}
