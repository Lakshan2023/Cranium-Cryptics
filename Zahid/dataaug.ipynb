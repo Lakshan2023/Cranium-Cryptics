{
 "cells": [
  {
   "cell_type": "code",
   "execution_count": null,
   "outputs": [],
   "source": [
    "import tensorflow as tf\n",
    "print(tf.__version__)"
   ],
   "metadata": {
    "collapsed": false
   },
   "id": "initial_id"
  },
  {
   "cell_type": "code",
   "execution_count": 3,
   "outputs": [],
   "source": [
    "import tensorflow as tf\n",
    "from keras.preprocessing.image import ImageDataGenerator\n",
    "import os\n",
    "\n",
    "ischemic_stroke_path = 'D:/datasets/ischemic stroke/'\n",
    "normal_path = 'D:/datasets/Normal/'\n",
    "ischemic_augmented_path = 'D:/datasets/augmented_ischemic/'\n",
    "normal_augmented_path   =  'D:/datasets/augmented_normal/'\n",
    "\n",
    "def augment_images(input_path, output_path, total_images_to_generate):\n",
    "    image_files = [os.path.join(input_path, f) for f in os.listdir(input_path) if f.endswith(('.jpg', '.jpeg', '.png'))]\n",
    "\n",
    "    data_augmentation = ImageDataGenerator(\n",
    "        horizontal_flip=True,\n",
    "        zoom_range=0.15,\n",
    "        shear_range=0.15,\n",
    "        rotation_range=20,\n",
    "        cval=0,\n",
    "        fill_mode= \"constant\"\n",
    "    )\n",
    "    os.makedirs(output_path, exist_ok=True)\n",
    "    for idx, image_path in enumerate(image_files):\n",
    "        img = tf.keras.preprocessing.image.load_img(image_path)\n",
    "        img = tf.keras.preprocessing.image.img_to_array(img)\n",
    "        img = img.reshape((1,) + img.shape)  # Reshape for flow method\n",
    "        augmented_img_gen = data_augmentation.flow(img, batch_size=1)\n",
    "        \n",
    "        for i, augmented_img in enumerate(augmented_img_gen):\n",
    "            image_name = 'augmented_image_' + str(idx) + '_aug' + str(i) + '.jpg'\n",
    "            tf.keras.preprocessing.image.save_img(\n",
    "                os.path.join(output_path, image_name),\n",
    "                augmented_img[0]\n",
    "            )\n",
    "            if i >= total_images_to_generate - 1:\n",
    "                break \n",
    "                \n",
    "augment_images(ischemic_stroke_path,ischemic_augmented_path , 15)  \n",
    "augment_images(normal_path,normal_augmented_path , 15) "
   ],
   "metadata": {
    "collapsed": false,
    "ExecuteTime": {
     "end_time": "2023-12-09T17:32:25.019556900Z",
     "start_time": "2023-12-09T16:54:52.835360200Z"
    }
   },
   "id": "98fabc92eff64ad8"
  }
 ],
 "metadata": {
  "kernelspec": {
   "display_name": "Python 3",
   "language": "python",
   "name": "python3"
  },
  "language_info": {
   "codemirror_mode": {
    "name": "ipython",
    "version": 2
   },
   "file_extension": ".py",
   "mimetype": "text/x-python",
   "name": "python",
   "nbconvert_exporter": "python",
   "pygments_lexer": "ipython2",
   "version": "2.7.6"
  }
 },
 "nbformat": 4,
 "nbformat_minor": 5
}
