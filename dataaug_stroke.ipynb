{
 "cells": [
  {
   "cell_type": "markdown",
   "source": [
    "# DATA AUGMENTATION FOR DATASETS"
   ],
   "metadata": {
    "collapsed": false
   },
   "id": "f6a1c94096d46dee"
  },
  {
   "cell_type": "code",
   "execution_count": 4,
   "outputs": [],
   "source": [
    "import tensorflow as tf\n",
    "from keras.preprocessing.image import ImageDataGenerator\n",
    "import os\n",
    "\n",
    "ischemic_stroke_path = 'D:/datasets/Original/FinalIshemic512'\n",
    "normal_path = 'D:/datasets/Original/FinalNormal512'\n",
    "ischemic_augmented_path = 'D:/datasets/Original/AugFinalIshemic512'\n",
    "normal_augmented_path   =  'D:/datasets/Original/AugFinalNormal512'\n",
    "\n",
    "def augment_images(input_path, output_path, total_images_to_generate):\n",
    "    image_files = [os.path.join(input_path, f) for f in os.listdir(input_path) if f.endswith(('.jpg', '.jpeg', '.png'))]\n",
    "\n",
    "    data_augmentation = ImageDataGenerator(\n",
    "        rotation_range=20,\n",
    "        zoom_range=0.15,\n",
    "        horizontal_flip=True,\n",
    "        fill_mode=\"constant\",\n",
    "        shear_range=0.15,\n",
    "        cval=0\n",
    "    )\n",
    "    os.makedirs(output_path, exist_ok=True)\n",
    "    for idx, image_path in enumerate(image_files):\n",
    "        img = tf.keras.preprocessing.image.load_img(image_path)\n",
    "        img = tf.keras.preprocessing.image.img_to_array(img)\n",
    "        img = img.reshape((1,) + img.shape) \n",
    "        augmented_img_gen = data_augmentation.flow(img, batch_size=1)\n",
    "        \n",
    "        for i, augmented_img in enumerate(augmented_img_gen):\n",
    "            image_name = 'augmented_image_' + str(idx) + '_aug' + str(i) + '.jpg'\n",
    "            tf.keras.preprocessing.image.save_img(\n",
    "                os.path.join(output_path, image_name),\n",
    "                augmented_img[0]\n",
    "            )\n",
    "            if i >= total_images_to_generate - 1:\n",
    "                break \n",
    "                \n",
    "augment_images(ischemic_stroke_path,ischemic_augmented_path , 15)  \n",
    "augment_images(normal_path,normal_augmented_path , 15) "
   ],
   "metadata": {
    "collapsed": false,
    "ExecuteTime": {
     "start_time": "2024-01-21T14:12:17.814364600Z"
    }
   },
   "id": "7dd79d21d96b3e46"
  }
 ],
 "metadata": {
  "kernelspec": {
   "display_name": "Python 3",
   "language": "python",
   "name": "python3"
  },
  "language_info": {
   "codemirror_mode": {
    "name": "ipython",
    "version": 2
   },
   "file_extension": ".py",
   "mimetype": "text/x-python",
   "name": "python",
   "nbconvert_exporter": "python",
   "pygments_lexer": "ipython2",
   "version": "2.7.6"
  }
 },
 "nbformat": 4,
 "nbformat_minor": 5
}
