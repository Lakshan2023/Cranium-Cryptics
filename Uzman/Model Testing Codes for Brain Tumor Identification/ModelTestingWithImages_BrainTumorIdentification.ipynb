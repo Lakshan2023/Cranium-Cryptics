{
 "cells": [
  {
   "cell_type": "code",
   "execution_count": 6,
   "id": "48fdafb2-67ba-4a2a-8044-35d16ecad4a8",
   "metadata": {},
   "outputs": [],
   "source": [
    "import tensorflow as tf\n",
    "import cv2\n",
    "import pandas as pd\n",
    "import numpy as np"
   ]
  },
  {
   "cell_type": "code",
   "execution_count": 7,
   "id": "0ea35482-7860-4904-beab-f0beca6f9fe8",
   "metadata": {},
   "outputs": [],
   "source": [
    "# Load your trained model\n",
    "model_Directory = 'C:/Users/seyed/Music/Brain Tumor - Model/TumorDetectionModel_VGG-16.h5'\n",
    "model = tf.keras.models.load_model(model_Directory)  # Replace 'your_model.h5' with the actual path to your saved model"
   ]
  },
  {
   "cell_type": "code",
   "execution_count": 8,
   "id": "7f289419-575d-4f81-adf8-79669ec0f656",
   "metadata": {},
   "outputs": [],
   "source": [
    "# Define a function to preprocess images\n",
    "def preprocess_image(image_path):\n",
    "    # Load the image\n",
    "    img = cv2.imread(image_path)\n",
    "    if img is None:\n",
    "        raise ValueError(f\"Error loading image from path: {image_path}\")\n",
    "        \n",
    "    # Preprocess the image (normalize, etc.)\n",
    "    # img = img / 255.0  # Normalize pixel values to be between 0 and 1\n",
    "    img = np.expand_dims(img, axis=0)  # Add batch dimension\n",
    "    return img"
   ]
  },
  {
   "cell_type": "code",
   "execution_count": 14,
   "id": "3574a837-0bdf-4ed3-8b61-f401a87879bf",
   "metadata": {},
   "outputs": [
    {
     "name": "stdout",
     "output_type": "stream",
     "text": [
      "1/1 [==============================] - 0s 33ms/step\n",
      "Predicted Class: 0\n"
     ]
    }
   ],
   "source": [
    "# Test your model on an example image\n",
    "test_image_path = 'C:/Users/seyed/Music/Brain Tumor - Model Data/Test/No/No_test_696.jpg' \n",
    "input_image = preprocess_image(test_image_path)\n",
    "\n",
    "# Get the model predictions\n",
    "predictions = model.predict(input_image)\n",
    "\n",
    "# Assuming it's a classification task, you can print the class with the highest probability\n",
    "predicted_class = np.argmax(predictions)\n",
    "print(f\"Predicted Class: {predicted_class}\")\n"
   ]
  }
 ],
 "metadata": {
  "kernelspec": {
   "display_name": "Python 3 (ipykernel)",
   "language": "python",
   "name": "python3"
  },
  "language_info": {
   "codemirror_mode": {
    "name": "ipython",
    "version": 3
   },
   "file_extension": ".py",
   "mimetype": "text/x-python",
   "name": "python",
   "nbconvert_exporter": "python",
   "pygments_lexer": "ipython3",
   "version": "3.9.18"
  }
 },
 "nbformat": 4,
 "nbformat_minor": 5
}
