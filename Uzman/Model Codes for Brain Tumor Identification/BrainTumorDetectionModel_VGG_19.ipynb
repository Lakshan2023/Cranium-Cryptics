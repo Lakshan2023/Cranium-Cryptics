{
 "cells": [
  {
   "cell_type": "code",
   "execution_count": 1,
   "metadata": {
    "id": "BZboOtFC3tLF"
   },
   "outputs": [],
   "source": [
    "# Importing recommended libraries\n",
    "import cv2  \n",
    "import os\n",
    "from matplotlib import pyplot as plt\n",
    "import numpy as np\n",
    "from sklearn.preprocessing import LabelEncoder\n",
    "from sklearn.model_selection import train_test_split\n",
    "import tensorflow as tf\n",
    "from tensorflow.keras.utils import to_categorical\n",
    "from tensorflow.keras import layers, models, optimizers\n",
    "from tensorflow.keras.applications import VGG19"
   ]
  },
  {
   "cell_type": "code",
   "execution_count": 2,
   "metadata": {
    "id": "mqGuyLW23th4"
   },
   "outputs": [],
   "source": [
    "# Main directory where model data is saved\n",
    "mainDataDirectory = \"C:/Users/seyed/Music/Brain Tumor - Model Data/\""
   ]
  },
  {
   "cell_type": "code",
   "execution_count": 3,
   "metadata": {
    "id": "DcwpFhI54R8Z"
   },
   "outputs": [],
   "source": [
    "# Categories of image classification\n",
    "imageCategories = [\"No\", \"Yes\"]\n",
    "\n",
    "# Directories for training and testing data\n",
    "trainDirectory = os.path.join(mainDataDirectory, 'Train')\n",
    "testDirectory = os.path.join(mainDataDirectory, 'Test')"
   ]
  },
  {
   "cell_type": "code",
   "execution_count": 4,
   "metadata": {
    "id": "Gkr3LCKa3t3m"
   },
   "outputs": [],
   "source": [
    "# Function to read images from a directory and add labels to each image\n",
    "def read_images_from_directory(directory):\n",
    "    images = []\n",
    "    labels = []\n",
    "    for imageCategory in imageCategories:\n",
    "        category_path = os.path.join(directory, imageCategory)\n",
    "        label = imageCategories.index(imageCategory)\n",
    "        \n",
    "        for filename in os.listdir(category_path):\n",
    "            image_path = os.path.join(category_path, filename)\n",
    "            image = cv2.imread(image_path)\n",
    "            if image is not None:\n",
    "                images.append(image)\n",
    "                labels.append(label)\n",
    "            else:\n",
    "                print(f\"Error in reading the image: {image_path}\")\n",
    "    return images, labels"
   ]
  },
  {
   "cell_type": "code",
   "execution_count": 5,
   "metadata": {
    "id": "WMljT64F3uIX"
   },
   "outputs": [],
   "source": [
    "# Read training images\n",
    "train_images, train_labels = read_images_from_directory(trainDirectory)\n",
    "\n",
    "# Read testing images\n",
    "test_images, test_labels = read_images_from_directory(testDirectory)\n",
    "\n",
    "# Convert the lists to numpy arrays\n",
    "train_images = np.array(train_images)\n",
    "train_labels = np.array(train_labels)\n",
    "test_images = np.array(test_images)\n",
    "test_labels = np.array(test_labels)"
   ]
  },
  {
   "cell_type": "code",
   "execution_count": 6,
   "metadata": {
    "id": "z1SlJA8w54qW"
   },
   "outputs": [
    {
     "data": {
      "text/plain": [
       "((41518, 256, 256, 3), (41518,), (10380, 256, 256, 3), (10380,))"
      ]
     },
     "execution_count": 6,
     "metadata": {},
     "output_type": "execute_result"
    }
   ],
   "source": [
    "train_images.shape, train_labels.shape, test_images.shape, test_labels.shape"
   ]
  },
  {
   "cell_type": "code",
   "execution_count": 7,
   "metadata": {
    "id": "TvSDy3Fa6G0x"
   },
   "outputs": [],
   "source": [
    "# Encoding the label\n",
    "label_encoder = LabelEncoder()\n",
    "train_label_encoded = label_encoder.fit_transform(train_labels)\n",
    "test_label_encoded = label_encoder.fit_transform(test_labels)\n",
    "\n",
    "# Convert the encoded labels to one-hot encoding\n",
    "train_labels_onehot = to_categorical(train_label_encoded, num_classes=2)\n",
    "test_labels_onehot = to_categorical(test_label_encoded, num_classes=2)"
   ]
  },
  {
   "cell_type": "code",
   "execution_count": null,
   "metadata": {
    "id": "uEN-i9k56J91"
   },
   "outputs": [
    {
     "name": "stdout",
     "output_type": "stream",
     "text": [
      "Epoch 1/10\n",
      " 513/2595 [====>.........................] - ETA: 32:19 - loss: 1.3457 - accuracy: 0.9001"
     ]
    }
   ],
   "source": [
    "# Running the tf in cpu\n",
    "with tf.device('/cpu:0'):\n",
    "    # Loading the vgg16 model and setting up the image size to train\n",
    "    base_model = VGG19(weights='imagenet', include_top=False, input_shape=(256, 256, 3))\n",
    "\n",
    "    # Freeze the layers\n",
    "    for layer in base_model.layers:\n",
    "        layer.trainable = False\n",
    "    \n",
    "    # Update the model architecture\n",
    "    model = models.Sequential()\n",
    "    model.add(base_model)\n",
    "    model.add(layers.Flatten())\n",
    "    model.add(layers.Dense(256, activation='relu'))\n",
    "    model.add(layers.Dropout(0.5))\n",
    "    model.add(layers.Dense(2, activation='softmax'))  \n",
    "\n",
    "    # Compile the model\n",
    "    model.compile(optimizer='adam', loss='categorical_crossentropy', metrics=['accuracy'])\n",
    "    \n",
    "    # Train the model\n",
    "    history = model.fit(train_images, train_labels_onehot, epochs=10, batch_size=16, validation_data=(test_images, test_labels_onehot))\n"
   ]
  },
  {
   "cell_type": "code",
   "execution_count": null,
   "metadata": {
    "id": "DfeAty_X6Nqe"
   },
   "outputs": [],
   "source": [
    "# Save the model\n",
    "model.save('C:/Users/seyed/Music/Brain Tumor - Model/TumorDetectionModel_VGG-19.h5')"
   ]
  },
  {
   "cell_type": "code",
   "execution_count": null,
   "metadata": {},
   "outputs": [],
   "source": [
    "model.summary()"
   ]
  },
  {
   "cell_type": "code",
   "execution_count": null,
   "metadata": {},
   "outputs": [],
   "source": []
  }
 ],
 "metadata": {
  "accelerator": "GPU",
  "colab": {
   "gpuType": "T4",
   "provenance": []
  },
  "kernelspec": {
   "display_name": "Python 3 (ipykernel)",
   "language": "python",
   "name": "python3"
  },
  "language_info": {
   "codemirror_mode": {
    "name": "ipython",
    "version": 3
   },
   "file_extension": ".py",
   "mimetype": "text/x-python",
   "name": "python",
   "nbconvert_exporter": "python",
   "pygments_lexer": "ipython3",
   "version": "3.9.18"
  }
 },
 "nbformat": 4,
 "nbformat_minor": 4
}
