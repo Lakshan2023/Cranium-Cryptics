{
 "cells": [
  {
   "cell_type": "code",
   "execution_count": 16,
   "metadata": {
    "id": "BZboOtFC3tLF"
   },
   "outputs": [],
   "source": [
    "# Importing recommended libraries\n",
    "import os\n",
    "from matplotlib import pyplot as plt\n",
    "import numpy as np\n",
    "import cv2\n",
    "from sklearn.preprocessing import LabelEncoder\n",
    "from sklearn.model_selection import train_test_split\n",
    "import tensorflow as tf\n",
    "from tensorflow.keras.utils import to_categorical\n",
    "from tensorflow.keras import layers, models, optimizers\n",
    "from tensorflow.keras.applications import VGG19"
   ]
  },
  {
   "cell_type": "code",
   "execution_count": 17,
   "metadata": {
    "id": "mqGuyLW23th4"
   },
   "outputs": [],
   "source": [
    "# Main directory where model data is saved\n",
    "mainDataDirectory = \"C:/Users/seyed/Music/Brain Tumor - Model Data/\""
   ]
  },
  {
   "cell_type": "code",
   "execution_count": 18,
   "metadata": {
    "id": "DcwpFhI54R8Z"
   },
   "outputs": [],
   "source": [
    "# Categories of image classification\n",
    "imageCategories = [\"Yes\", \"No\"]\n",
    "\n",
    "# Directories for training and testing data\n",
    "trainDirectory = os.path.join(mainDataDirectory, 'Train')\n",
    "testDirectory = os.path.join(mainDataDirectory, 'Test')"
   ]
  },
  {
   "cell_type": "code",
   "execution_count": 19,
   "metadata": {
    "id": "Gkr3LCKa3t3m"
   },
   "outputs": [],
   "source": [
    "# Function to read images from a directory and add labels to each image\n",
    "def read_images_from_directory(directory):\n",
    "    images = []\n",
    "    labels = []\n",
    "    for category in imageCategories:\n",
    "        category_path = os.path.join(directory, category)\n",
    "        label = imageCategories.index(category)\n",
    "\n",
    "        for filename in os.listdir(category_path):\n",
    "            image_path = os.path.join(category_path, filename)\n",
    "            image = cv2.imread(image_path)\n",
    "            images.append(image)\n",
    "            if label == 0:\n",
    "                labels.append(\"Yes\")\n",
    "            elif label == 1:\n",
    "                labels.append(\"No\")\n",
    "    return images, labels"
   ]
  },
  {
   "cell_type": "code",
   "execution_count": null,
   "metadata": {
    "id": "WMljT64F3uIX"
   },
   "outputs": [],
   "source": [
    "# Read training images\n",
    "train_x, train_y = read_images_from_directory(trainDirectory)\n",
    "\n",
    "# Read testing images\n",
    "test_x, test_y = read_images_from_directory(testDirectory)\n",
    "\n",
    "# Convert the lists to numpy arrays\n",
    "train_x = np.array(train_x)\n",
    "train_y = np.array(train_y)\n",
    "test_x = np.array(test_x)\n",
    "test_y = np.array(test_y)"
   ]
  },
  {
   "cell_type": "code",
   "execution_count": null,
   "metadata": {
    "id": "z1SlJA8w54qW"
   },
   "outputs": [],
   "source": [
    "# Checking for the number of data\n",
    "train_x.shape"
   ]
  },
  {
   "cell_type": "code",
   "execution_count": null,
   "metadata": {
    "id": "5gaJvhuP56tp"
   },
   "outputs": [],
   "source": [
    "test_x.shape"
   ]
  },
  {
   "cell_type": "code",
   "execution_count": null,
   "metadata": {
    "id": "xEl56KxP58Hu"
   },
   "outputs": [],
   "source": [
    "# Checking the categories in the dataset\n",
    "np.unique(train_y)"
   ]
  },
  {
   "cell_type": "code",
   "execution_count": null,
   "metadata": {
    "id": "TvSDy3Fa6G0x"
   },
   "outputs": [],
   "source": [
    "# Map string labels to integer labels inorder for the model to read the data in integer format\n",
    "label_mapping = {'No': 1, 'Yes': 0}\n",
    "\n",
    "# Convert string labels to integer labels\n",
    "train_y = [label_mapping[label] for label in train_y]\n",
    "test_y = [label_mapping[label] for label in test_y]\n",
    "\n",
    "# Convert labels to one-hot encoded format\n",
    "train_y_one_hot = to_categorical(train_y, num_classes=2)\n",
    "test_y_one_hot = to_categorical(test_y, num_classes=2)"
   ]
  },
  {
   "cell_type": "code",
   "execution_count": null,
   "metadata": {
    "id": "uEN-i9k56J91"
   },
   "outputs": [],
   "source": [
    "# Running the tf in cpu\n",
    "with tf.device('/cpu:0'):\n",
    "    # Loading the vgg16 model and setting up the image size to train\n",
    "    base_model = VGG19(weights='imagenet', include_top=False, input_shape=(256, 256, 3))\n",
    "    \n",
    "    # Freeze the layers\n",
    "    for layer in base_model.layers:\n",
    "        layer.trainable = False\n",
    "    \n",
    "    # Build the model\n",
    "    model = models.Sequential()\n",
    "    model.add(base_model)\n",
    "    model.add(layers.Flatten())\n",
    "    model.add(layers.Dense(256, activation='relu'))\n",
    "    model.add(layers.Dropout(0.5))\n",
    "    model.add(layers.Dense(2, activation='softmax'))\n",
    "    \n",
    "    # Compile the model\n",
    "    model.compile(optimizer='adam', loss='categorical_crossentropy', metrics=['accuracy'])\n",
    "    \n",
    "    # Train the model\n",
    "    history = model.fit(train_x, train_y_one_hot, epochs=10, batch_size=16, validation_data=(test_x, test_y_one_hot))\n"
   ]
  },
  {
   "cell_type": "code",
   "execution_count": null,
   "metadata": {
    "id": "DfeAty_X6Nqe"
   },
   "outputs": [],
   "source": [
    "# Save the model\n",
    "model.save('C:/Users/seyed/Music/Brain Tumor - Model/TumorDetectionModel_VGG-19.h5')"
   ]
  },
  {
   "cell_type": "code",
   "execution_count": null,
   "metadata": {},
   "outputs": [],
   "source": [
    "model.summary()"
   ]
  }
 ],
 "metadata": {
  "accelerator": "GPU",
  "colab": {
   "gpuType": "T4",
   "provenance": []
  },
  "kernelspec": {
   "display_name": "Python 3 (ipykernel)",
   "language": "python",
   "name": "python3"
  },
  "language_info": {
   "codemirror_mode": {
    "name": "ipython",
    "version": 3
   },
   "file_extension": ".py",
   "mimetype": "text/x-python",
   "name": "python",
   "nbconvert_exporter": "python",
   "pygments_lexer": "ipython3",
   "version": "3.9.18"
  }
 },
 "nbformat": 4,
 "nbformat_minor": 4
}
